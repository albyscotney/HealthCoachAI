{
 "cells": [
  {
   "cell_type": "code",
   "execution_count": 16,
   "metadata": {},
   "outputs": [],
   "source": [
    "import smtplib\n",
    "import ssl\n",
    "from email.message import EmailMessage\n",
    "from email.mime.application import MIMEApplication\n",
    "from email.mime.multipart import MIMEMultipart\n",
    "from email.mime.text import MIMEText\n",
    "\n",
    "import os"
   ]
  },
  {
   "cell_type": "code",
   "execution_count": 17,
   "metadata": {},
   "outputs": [
    {
     "data": {
      "text/plain": [
       "['monthly_vo2_max.html']"
      ]
     },
     "execution_count": 17,
     "metadata": {},
     "output_type": "execute_result"
    }
   ],
   "source": [
    "os.listdir('graphs/')"
   ]
  },
  {
   "cell_type": "code",
   "execution_count": 18,
   "metadata": {},
   "outputs": [
    {
     "name": "stdout",
     "output_type": "stream",
     "text": [
      "Email sent successfully!\n"
     ]
    }
   ],
   "source": [
    "# Email configuration\n",
    "sender_email = \"healthspan.data@gmail.com\"  # Your email address\n",
    "receiver_email = \"alby.scotney@icloud.com\"  # The recipient's email address\n",
    "password = \"idcl ncnb xzcg zqhb\"  # Your App Password\n",
    "\n",
    "# Create a multipart message and set headers\n",
    "message = MIMEMultipart()\n",
    "message[\"From\"] = sender_email\n",
    "message[\"To\"] = receiver_email\n",
    "message[\"Subject\"] = \"My Plotly Graph Report\"\n",
    "\n",
    "# Email body (you can add a custom message here)\n",
    "body = \"Hello,\\n\\nPlease find the attached Plotly graph generated from my Jupyter Notebook.\\n\\nBest regards,\\nPython Script\"\n",
    "message.attach(MIMEText(body, \"plain\"))\n",
    "\n",
    "# Attach the file\n",
    "filename = \"./graphs/monthly_vo2_max.html\"  # or \"my_plotly_graph.png\"\n",
    "with open(filename, \"rb\") as attachment:\n",
    "    # Use MIMEApplication for a generic attachment\n",
    "    part = MIMEApplication(attachment.read(), Name=filename)\n",
    "    # Add a header to the attachment part\n",
    "    part[\"Content-Disposition\"] = f'attachment; filename=\"{filename}\"'\n",
    "    message.attach(part)\n",
    "\n",
    "# Connect to the SMTP server and send the email\n",
    "smtp_server = \"smtp.gmail.com\"\n",
    "port = 587  # For starttls\n",
    "context = ssl.create_default_context()\n",
    "\n",
    "try:\n",
    "    with smtplib.SMTP(smtp_server, port) as server:\n",
    "        server.starttls(context=context)\n",
    "        server.login(sender_email, password)\n",
    "        server.sendmail(sender_email, receiver_email, message.as_string())\n",
    "    print(\"Email sent successfully!\")\n",
    "\n",
    "except Exception as e:\n",
    "    print(f\"An error occurred: {e}\")\n",
    "\n",
    "# Clean up the generated file after sending\n",
    "# os.remove(filename)"
   ]
  },
  {
   "cell_type": "code",
   "execution_count": null,
   "metadata": {},
   "outputs": [],
   "source": []
  },
  {
   "cell_type": "code",
   "execution_count": null,
   "metadata": {},
   "outputs": [],
   "source": []
  }
 ],
 "metadata": {
  "kernelspec": {
   "display_name": "3.11.9",
   "language": "python",
   "name": "python3"
  },
  "language_info": {
   "codemirror_mode": {
    "name": "ipython",
    "version": 3
   },
   "file_extension": ".py",
   "mimetype": "text/x-python",
   "name": "python",
   "nbconvert_exporter": "python",
   "pygments_lexer": "ipython3",
   "version": "3.11.9"
  }
 },
 "nbformat": 4,
 "nbformat_minor": 2
}

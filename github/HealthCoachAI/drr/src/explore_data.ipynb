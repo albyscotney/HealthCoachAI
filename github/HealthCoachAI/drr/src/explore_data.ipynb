{
 "cells": [
  {
   "cell_type": "code",
   "execution_count": 5,
   "metadata": {},
   "outputs": [
    {
     "name": "stdout",
     "output_type": "stream",
     "text": [
      "Successfully connected to InfluxDB. Available databases: [{'name': 'GarminStats'}, {'name': '_internal'}]\n"
     ]
    }
   ],
   "source": [
    "from influxdb import InfluxDBClient\n",
    "\n",
    "# InfluxDB connection details from your compose file\n",
    "host = 'localhost' \n",
    "port = 8086\n",
    "user = 'influxdb_user'\n",
    "password = 'influxdb_secret_password'\n",
    "dbname = 'GarminStats'\n",
    "\n",
    "# Initialize the InfluxDB client\n",
    "client = InfluxDBClient(host=host, port=port, username=user, password=password, database=dbname)\n",
    "\n",
    "# Test the connection\n",
    "try:\n",
    "    databases = client.get_list_database()\n",
    "    print(f\"Successfully connected to InfluxDB. Available databases: {databases}\")\n",
    "except Exception as e:\n",
    "    print(f\"Error connecting to InfluxDB: {e}\")"
   ]
  },
  {
   "cell_type": "code",
   "execution_count": 19,
   "metadata": {},
   "outputs": [
    {
     "name": "stdout",
     "output_type": "stream",
     "text": [
      "Available Measurements (Datasets): ['ActivityGPS', 'ActivityLap', 'ActivitySession', 'ActivitySummary', 'BodyBatteryIntraday', 'BodyComposition', 'BreathingRateIntraday', 'DailyStats', 'DemoPoint', 'DeviceSync', 'FitnessAge', 'HRV_Intraday', 'HeartRateIntraday', 'RacePredictions', 'SleepIntraday', 'SleepSummary', 'StepsIntraday', 'StressIntraday', 'VO2_Max']\n"
     ]
    }
   ],
   "source": [
    "# Query to show all measurements\n",
    "query = 'SHOW MEASUREMENTS'\n",
    "result = client.query(query)\n",
    "\n",
    "# Process and print the results\n",
    "measurements = [item['name'] for item in list(result.get_points())]\n",
    "print(\"Available Measurements (Datasets):\", measurements)"
   ]
  },
  {
   "cell_type": "code",
   "execution_count": 11,
   "metadata": {},
   "outputs": [
    {
     "name": "stdout",
     "output_type": "stream",
     "text": [
      "\n",
      "Tag keys for 'SleepSummary': ['Database_Name', 'Device']\n",
      "\n",
      "Field keys for 'SleepSummary': ['averageRespirationValue', 'averageSpO2Value', 'avgOvernightHrv', 'avgSleepStress', 'awakeCount', 'awakeSleepSeconds', 'bodyBatteryChange', 'deepSleepSeconds', 'highestRespirationValue', 'highestSpO2Value', 'lightSleepSeconds', 'lowestRespirationValue', 'lowestSpO2Value', 'remSleepSeconds', 'restingHeartRate', 'restlessMomentsCount', 'sleepScore', 'sleepTimeSeconds']\n"
     ]
    }
   ],
   "source": [
    "# Example of listing tag keys for a measurement\n",
    "measurement_name = \"SleepSummary\"\n",
    "query = f'SHOW TAG KEYS FROM \"{measurement_name}\"'\n",
    "result = client.query(query)\n",
    "\n",
    "tag_keys = [item['tagKey'] for item in list(result.get_points())]\n",
    "print(f\"\\nTag keys for '{measurement_name}':\", tag_keys)\n",
    "\n",
    "query = f'SHOW FIELD KEYS FROM \"{measurement_name}\"'\n",
    "result = client.query(query)\n",
    "\n",
    "field_keys = [item['fieldKey'] for item in list(result.get_points())]\n",
    "print(f\"\\nField keys for '{measurement_name}':\", field_keys)"
   ]
  },
  {
   "cell_type": "code",
   "execution_count": 1,
   "metadata": {},
   "outputs": [],
   "source": [
    "query = "
   ]
  },
  {
   "cell_type": "code",
   "execution_count": null,
   "metadata": {},
   "outputs": [],
   "source": []
  }
 ],
 "metadata": {
  "kernelspec": {
   "display_name": "Python 3",
   "language": "python",
   "name": "python3"
  },
  "language_info": {
   "codemirror_mode": {
    "name": "ipython",
    "version": 3
   },
   "file_extension": ".py",
   "mimetype": "text/x-python",
   "name": "python",
   "nbconvert_exporter": "python",
   "pygments_lexer": "ipython3",
   "version": "3.11.9"
  }
 },
 "nbformat": 4,
 "nbformat_minor": 2
}

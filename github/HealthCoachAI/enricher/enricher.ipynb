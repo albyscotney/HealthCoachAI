{
 "cells": [
  {
   "cell_type": "code",
   "execution_count": 1,
   "metadata": {},
   "outputs": [],
   "source": [
    "import sys\n",
    "import os\n",
    "from influxdb import InfluxDBClient\n",
    "import pandas as pd\n",
    "import numpy as np\n",
    "from scipy.interpolate import griddata, NearestNDInterpolator\n",
    "from datetime import datetime\n",
    "from dotenv import load_dotenv\n",
    "from influxdb_client_3 import InfluxDBClient3\n",
    "\n",
    "from enricher.src.tables.sleep import run_sleep_enricher\n",
    "from enricher.src.tables.vo2 import run_vo2_enricher"
   ]
  },
  {
   "cell_type": "code",
   "execution_count": 2,
   "metadata": {},
   "outputs": [],
   "source": [
    "def setup_connection(fetcher_database=True, dotenv_path:str=''):\n",
    "    \"\"\"\n",
    "    Establishes a connection to an InfluxDB v3 instance using environment variables.\n",
    "    \"\"\"\n",
    "    # Load the .env file from the specified path\n",
    "    load_dotenv(dotenv_path=dotenv_path)    \n",
    "\n",
    "    port = os.getenv(\"INFLUXDB_PORT\") # Should be '8181'\n",
    "    token = os.getenv(\"INFLUXDB_V3_ACCESS_TOKEN\")\n",
    "    if fetcher_database is True:\n",
    "        database = os.getenv(\"INFLUXDB_DATABASE\") # Database is the v3 term for bucket\n",
    "    else:\n",
    "        database = os.getenv(\"INFLUXDB_ENRICHER\")\n",
    "    full_host_url = f\"http://localhost:{port}\"\n",
    "\n",
    "\n",
    "    print(f\"--- Attempting Connection ---\")\n",
    "    print(f\"Port: {port}\")\n",
    "    print(f\"Database: {database}\")\n",
    "    print(f\"Token: {'Set' if token else 'Not Set'}\") # Avoid printing the token itself\n",
    "    print(f\"-----------------------------\")\n",
    "\n",
    "    # Check for missing required variables\n",
    "    if not all([port, token, database]):\n",
    "        print(\"🛑 Error: Missing one or more required environment variables.\")\n",
    "        print(\"Please set INFLUXDB_TOKEN, INFLUXDB_PORT and INFLUXDB_DATABASE.\")\n",
    "        return None\n",
    "\n",
    "    try:\n",
    "        # Use the InfluxDBClient3 for v3-specific features\n",
    "        # The client will raise an exception on connection failure (e.g., bad auth, host not found)\n",
    "        client = InfluxDBClient3(host=full_host_url, token=token, database=database)\n",
    "        print(f\"✅ Successfully connected to InfluxDB at {full_host_url}\")\n",
    "        return client\n",
    "    except Exception as e:\n",
    "        print(f\"❌ Error connecting to InfluxDB: {e}\")\n",
    "        return None\n"
   ]
  },
  {
   "cell_type": "code",
   "execution_count": 3,
   "metadata": {},
   "outputs": [
    {
     "name": "stdout",
     "output_type": "stream",
     "text": [
      "--- Attempting Connection ---\n",
      "Port: 8181\n",
      "Database: GarminStats\n",
      "Token: Set\n",
      "-----------------------------\n",
      "✅ Successfully connected to InfluxDB at http://localhost:8181\n",
      "./envs/.env.user\n"
     ]
    }
   ],
   "source": [
    "client = setup_connection(fetcher_database=True, dotenv_path= './envs/.env.influx')\n",
    "\n",
    "env_path = os.path.expanduser('./envs/.env.user')\n",
    "print(env_path)\n",
    "load_dotenv(dotenv_path=env_path)\n",
    "sex = os.getenv('GENDER')\n",
    "USER = os.getenv('GARMINCONNECT_EMAIL')"
   ]
  },
  {
   "cell_type": "code",
   "execution_count": 4,
   "metadata": {},
   "outputs": [
    {
     "name": "stdout",
     "output_type": "stream",
     "text": [
      "Getting Data\n",
      "Enriching Data\n",
      "Writing Data\n"
     ]
    },
    {
     "name": "stderr",
     "output_type": "stream",
     "text": [
      "/Users/albyscotney/github/HealthCoachAI/enricher/src/utils/querying.py:71: FutureWarning: DataFrame.fillna with 'method' is deprecated and will raise in a future version. Use obj.ffill() or obj.bfill() instead.\n",
      "  return (df.fillna(method='ffill')).fillna(method='bfill')\n"
     ]
    },
    {
     "name": "stdout",
     "output_type": "stream",
     "text": [
      "Successfully wrote data for user alby.scotney@icloud.com.\n"
     ]
    }
   ],
   "source": [
    "run_sleep_enricher(client, USER, sex)"
   ]
  },
  {
   "cell_type": "code",
   "execution_count": 5,
   "metadata": {},
   "outputs": [
    {
     "name": "stderr",
     "output_type": "stream",
     "text": [
      "/Users/albyscotney/github/HealthCoachAI/enricher/src/utils/querying.py:71: FutureWarning: DataFrame.fillna with 'method' is deprecated and will raise in a future version. Use obj.ffill() or obj.bfill() instead.\n",
      "  return (df.fillna(method='ffill')).fillna(method='bfill')\n"
     ]
    },
    {
     "name": "stdout",
     "output_type": "stream",
     "text": [
      "Successfully wrote data for user alby.scotney@icloud.com.\n"
     ]
    }
   ],
   "source": [
    "run_vo2_enricher(client, USER, sex)"
   ]
  },
  {
   "cell_type": "code",
   "execution_count": null,
   "metadata": {},
   "outputs": [],
   "source": []
  }
 ],
 "metadata": {
  "kernelspec": {
   "display_name": "garmin",
   "language": "python",
   "name": "python3"
  },
  "language_info": {
   "codemirror_mode": {
    "name": "ipython",
    "version": 3
   },
   "file_extension": ".py",
   "mimetype": "text/x-python",
   "name": "python",
   "nbconvert_exporter": "python",
   "pygments_lexer": "ipython3",
   "version": "3.11.9"
  }
 },
 "nbformat": 4,
 "nbformat_minor": 2
}

{
 "cells": [
  {
   "cell_type": "code",
   "execution_count": 1,
   "metadata": {},
   "outputs": [],
   "source": [
    "import sys\n",
    "import os\n",
    "\n",
    "current_dir = os.getcwd()\n",
    "\n",
    "project_root = os.path.join(current_dir, '..', '..')\n",
    "\n",
    "if project_root not in sys.path:\n",
    "    sys.path.append(project_root)\n"
   ]
  },
  {
   "cell_type": "code",
   "execution_count": 2,
   "metadata": {},
   "outputs": [],
   "source": [
    "from influxdb import InfluxDBClient\n",
    "import pandas as pd\n",
    "from datetime import datetime\n",
    "\n",
    "from src.querying import setup_connection, fill_nulls, query_garmin_with_age_and_sex\n",
    "from src.vo2 import bilateral_interpolation"
   ]
  },
  {
   "cell_type": "code",
   "execution_count": 3,
   "metadata": {},
   "outputs": [
    {
     "name": "stdout",
     "output_type": "stream",
     "text": [
      "Successfully connected to InfluxDB. Available databases: [{'name': 'GarminStats'}, {'name': '_internal'}]\n"
     ]
    }
   ],
   "source": [
    "client = setup_connection()\n",
    "\n",
    "sex = 'M'"
   ]
  },
  {
   "cell_type": "code",
   "execution_count": 1,
   "metadata": {},
   "outputs": [
    {
     "ename": "NameError",
     "evalue": "name 'fill_nulls' is not defined",
     "output_type": "error",
     "traceback": [
      "\u001b[0;31m---------------------------------------------------------------------------\u001b[0m",
      "\u001b[0;31mNameError\u001b[0m                                 Traceback (most recent call last)",
      "Cell \u001b[0;32mIn[1], line 5\u001b[0m\n\u001b[1;32m      1\u001b[0m query_vo2 \u001b[38;5;241m=\u001b[39m \u001b[38;5;124m\"\"\"\u001b[39m\n\u001b[1;32m      2\u001b[0m \u001b[38;5;124mSELECT \u001b[39m\u001b[38;5;124m\"\u001b[39m\u001b[38;5;124mVO2_max_value\u001b[39m\u001b[38;5;124m\"\u001b[39m\u001b[38;5;124m as vo2 FROM \u001b[39m\u001b[38;5;124m\"\u001b[39m\u001b[38;5;124mVO2_Max\u001b[39m\u001b[38;5;124m\"\u001b[39m\n\u001b[1;32m      3\u001b[0m \u001b[38;5;124m\"\"\"\u001b[39m\n\u001b[0;32m----> 5\u001b[0m df_vo2 \u001b[38;5;241m=\u001b[39m \u001b[43mfill_nulls\u001b[49m(query_garmin_with_age_and_sex(client, query_vo2, sex))\n",
      "\u001b[0;31mNameError\u001b[0m: name 'fill_nulls' is not defined"
     ]
    }
   ],
   "source": [
    "query_vo2 = \"\"\"\n",
    "SELECT \"VO2_max_value\" as vo2 FROM \"VO2_Max\"\n",
    "\"\"\"\n",
    "\n",
    "df_vo2 = fill_nulls(query_garmin_with_age_and_sex(client, query_vo2, sex))"
   ]
  },
  {
   "cell_type": "code",
   "execution_count": 5,
   "metadata": {},
   "outputs": [],
   "source": [
    "baseline = pd.read_csv('baseline.csv')"
   ]
  },
  {
   "cell_type": "code",
   "execution_count": 6,
   "metadata": {},
   "outputs": [],
   "source": [
    "interpolated_df = bilateral_interpolation(baseline, df_vo2)\n"
   ]
  },
  {
   "cell_type": "code",
   "execution_count": 7,
   "metadata": {},
   "outputs": [
    {
     "data": {
      "text/html": [
       "<div>\n",
       "<style scoped>\n",
       "    .dataframe tbody tr th:only-of-type {\n",
       "        vertical-align: middle;\n",
       "    }\n",
       "\n",
       "    .dataframe tbody tr th {\n",
       "        vertical-align: top;\n",
       "    }\n",
       "\n",
       "    .dataframe thead th {\n",
       "        text-align: right;\n",
       "    }\n",
       "</style>\n",
       "<table border=\"1\" class=\"dataframe\">\n",
       "  <thead>\n",
       "    <tr style=\"text-align: right;\">\n",
       "      <th></th>\n",
       "      <th>age</th>\n",
       "      <th>sex</th>\n",
       "      <th>vo2</th>\n",
       "      <th>hr</th>\n",
       "    </tr>\n",
       "    <tr>\n",
       "      <th>time</th>\n",
       "      <th></th>\n",
       "      <th></th>\n",
       "      <th></th>\n",
       "      <th></th>\n",
       "    </tr>\n",
       "  </thead>\n",
       "  <tbody>\n",
       "    <tr>\n",
       "      <th>2024-01-01 00:00:00+00:00</th>\n",
       "      <td>23.0</td>\n",
       "      <td>M</td>\n",
       "      <td>54.2</td>\n",
       "      <td>0.572698</td>\n",
       "    </tr>\n",
       "    <tr>\n",
       "      <th>2024-01-02 00:00:00+00:00</th>\n",
       "      <td>23.0</td>\n",
       "      <td>M</td>\n",
       "      <td>54.2</td>\n",
       "      <td>0.572698</td>\n",
       "    </tr>\n",
       "    <tr>\n",
       "      <th>2024-01-03 00:00:00+00:00</th>\n",
       "      <td>23.0</td>\n",
       "      <td>M</td>\n",
       "      <td>54.2</td>\n",
       "      <td>0.572698</td>\n",
       "    </tr>\n",
       "    <tr>\n",
       "      <th>2024-01-04 00:00:00+00:00</th>\n",
       "      <td>23.0</td>\n",
       "      <td>M</td>\n",
       "      <td>54.2</td>\n",
       "      <td>0.572698</td>\n",
       "    </tr>\n",
       "    <tr>\n",
       "      <th>2024-01-05 00:00:00+00:00</th>\n",
       "      <td>23.0</td>\n",
       "      <td>M</td>\n",
       "      <td>54.2</td>\n",
       "      <td>0.572698</td>\n",
       "    </tr>\n",
       "    <tr>\n",
       "      <th>...</th>\n",
       "      <td>...</td>\n",
       "      <td>...</td>\n",
       "      <td>...</td>\n",
       "      <td>...</td>\n",
       "    </tr>\n",
       "    <tr>\n",
       "      <th>2025-08-13 00:00:00+00:00</th>\n",
       "      <td>25.0</td>\n",
       "      <td>M</td>\n",
       "      <td>53.7</td>\n",
       "      <td>0.594496</td>\n",
       "    </tr>\n",
       "    <tr>\n",
       "      <th>2025-08-14 00:00:00+00:00</th>\n",
       "      <td>25.0</td>\n",
       "      <td>M</td>\n",
       "      <td>53.7</td>\n",
       "      <td>0.594496</td>\n",
       "    </tr>\n",
       "    <tr>\n",
       "      <th>2025-08-15 00:00:00+00:00</th>\n",
       "      <td>25.0</td>\n",
       "      <td>M</td>\n",
       "      <td>53.7</td>\n",
       "      <td>0.594496</td>\n",
       "    </tr>\n",
       "    <tr>\n",
       "      <th>2025-08-16 00:00:00+00:00</th>\n",
       "      <td>25.0</td>\n",
       "      <td>M</td>\n",
       "      <td>53.7</td>\n",
       "      <td>0.594496</td>\n",
       "    </tr>\n",
       "    <tr>\n",
       "      <th>2025-08-17 00:00:00+00:00</th>\n",
       "      <td>25.0</td>\n",
       "      <td>M</td>\n",
       "      <td>53.7</td>\n",
       "      <td>0.594496</td>\n",
       "    </tr>\n",
       "  </tbody>\n",
       "</table>\n",
       "<p>595 rows × 4 columns</p>\n",
       "</div>"
      ],
      "text/plain": [
       "                            age sex   vo2        hr\n",
       "time                                               \n",
       "2024-01-01 00:00:00+00:00  23.0   M  54.2  0.572698\n",
       "2024-01-02 00:00:00+00:00  23.0   M  54.2  0.572698\n",
       "2024-01-03 00:00:00+00:00  23.0   M  54.2  0.572698\n",
       "2024-01-04 00:00:00+00:00  23.0   M  54.2  0.572698\n",
       "2024-01-05 00:00:00+00:00  23.0   M  54.2  0.572698\n",
       "...                         ...  ..   ...       ...\n",
       "2025-08-13 00:00:00+00:00  25.0   M  53.7  0.594496\n",
       "2025-08-14 00:00:00+00:00  25.0   M  53.7  0.594496\n",
       "2025-08-15 00:00:00+00:00  25.0   M  53.7  0.594496\n",
       "2025-08-16 00:00:00+00:00  25.0   M  53.7  0.594496\n",
       "2025-08-17 00:00:00+00:00  25.0   M  53.7  0.594496\n",
       "\n",
       "[595 rows x 4 columns]"
      ]
     },
     "execution_count": 7,
     "metadata": {},
     "output_type": "execute_result"
    }
   ],
   "source": [
    "interpolated_df"
   ]
  },
  {
   "cell_type": "code",
   "execution_count": null,
   "metadata": {},
   "outputs": [],
   "source": []
  }
 ],
 "metadata": {
  "kernelspec": {
   "display_name": "Python 3",
   "language": "python",
   "name": "python3"
  },
  "language_info": {
   "codemirror_mode": {
    "name": "ipython",
    "version": 3
   },
   "file_extension": ".py",
   "mimetype": "text/x-python",
   "name": "python",
   "nbconvert_exporter": "python",
   "pygments_lexer": "ipython3",
   "version": "3.9.21"
  }
 },
 "nbformat": 4,
 "nbformat_minor": 2
}
